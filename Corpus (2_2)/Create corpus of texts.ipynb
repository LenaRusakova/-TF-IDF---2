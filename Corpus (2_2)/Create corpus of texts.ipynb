{
 "cells": [
  {
   "cell_type": "code",
   "execution_count": 10,
   "id": "4310cbd0",
   "metadata": {},
   "outputs": [],
   "source": [
    "#!pip3 install lxml\n",
    "#!pip3 install requests\n",
    "#!pip3 install beautifulsoup4\n",
    "#https://pythonru.com/biblioteki/parsing-na-python-s-beautiful-soup"
   ]
  },
  {
   "cell_type": "code",
   "execution_count": 11,
   "id": "2cd7a283",
   "metadata": {},
   "outputs": [],
   "source": [
    "import requests\n",
    "from bs4 import BeautifulSoup\n",
    "\n",
    "url = 'https://goodsongs.com.ua/artist2147_kino.html'#'https://goodsongs.com.ua/artist2898_valentin-strykalo.html'\n",
    "response = requests.get(url)\n",
    "soup = BeautifulSoup(response.text, 'lxml')\n",
    "hrefs = soup.find_all('li', class_='asong')#container row col-sm-8 er2 left-col row col-sm-12 artist-list')\n",
    "\n",
    "for n, link in enumerate(hrefs, start=1):\n",
    "    song = link.find('a').text\n",
    "    url = link.find(\"a\")[\"href\"]\n",
    "    #print(f'{n}:  {song} : {url}')"
   ]
  },
  {
   "cell_type": "code",
   "execution_count": 12,
   "id": "99c816cb",
   "metadata": {},
   "outputs": [],
   "source": [
    "links = soup.find_all('li', class_='asong')\n",
    "urls=[]\n",
    "\n",
    "for link in links:\n",
    "        hrefval = link.find(\"a\")[\"href\"]\n",
    "        urls.append(hrefval)"
   ]
  },
  {
   "cell_type": "code",
   "execution_count": 13,
   "id": "fe40a771",
   "metadata": {},
   "outputs": [],
   "source": [
    "for slug in urls:\n",
    "    newUrl = 'https://goodsongs.com.ua/' + slug\n",
    "    response = requests.get(newUrl)\n",
    "    soup = BeautifulSoup(response.text, 'lxml')\n",
    "    header = soup.find('h2', class_='asong').text\n",
    "    header = 'corpus_/' + header.replace('слова песни ','') + '.txt'\n",
    "    song = soup.find('p', class_='asong').text\n",
    "    \n",
    "    with open(header, 'w') as f:\n",
    "        f.write(song)\n",
    "    f.close()"
   ]
  },
  {
   "cell_type": "code",
   "execution_count": null,
   "id": "7ec5fc47",
   "metadata": {},
   "outputs": [],
   "source": []
  }
 ],
 "metadata": {
  "kernelspec": {
   "display_name": "Python 3 (ipykernel)",
   "language": "python",
   "name": "python3"
  },
  "language_info": {
   "codemirror_mode": {
    "name": "ipython",
    "version": 3
   },
   "file_extension": ".py",
   "mimetype": "text/x-python",
   "name": "python",
   "nbconvert_exporter": "python",
   "pygments_lexer": "ipython3",
   "version": "3.9.7"
  }
 },
 "nbformat": 4,
 "nbformat_minor": 5
}
